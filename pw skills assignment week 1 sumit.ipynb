{
 "cells": [
  {
   "cell_type": "markdown",
   "id": "355f7584-88a1-4c52-932d-5a34469f673f",
   "metadata": {},
   "source": [
    "Q1. Create one variable containing following type of data:\n",
    "\n",
    "(i) string\n",
    "\n",
    "(ii) list\n",
    "\n",
    "(iii) float \n",
    "\n",
    "(iv) tuple"
   ]
  },
  {
   "cell_type": "code",
   "execution_count": 10,
   "id": "cf16e113-d7e5-4373-b988-cefef08c51a3",
   "metadata": {},
   "outputs": [
    {
     "name": "stdout",
     "output_type": "stream",
     "text": [
      "<class 'str'>\n",
      "<class 'list'>\n",
      "<class 'float'>\n",
      "<class 'tuple'>\n"
     ]
    }
   ],
   "source": [
    "a= \" I have to do this job \"\n",
    "b= [ 1,2,3, \"sumit\", 4.5 , 5+3j]\n",
    "c= 5.85\n",
    "d= (  1,2,3, \"sumit\", 4.5 , 5+3j )\n",
    "\n",
    "print( type(a))\n",
    "print(type(b))\n",
    "print(type(c))\n",
    "print(type(d))"
   ]
  },
  {
   "cell_type": "code",
   "execution_count": null,
   "id": "96f5c23d-f1d5-460f-925f-642c3e2e7925",
   "metadata": {},
   "outputs": [],
   "source": []
  },
  {
   "cell_type": "code",
   "execution_count": null,
   "id": "291bcda2-d707-4fd8-a12c-c67edc1f2e7f",
   "metadata": {},
   "outputs": [],
   "source": []
  },
  {
   "cell_type": "markdown",
   "id": "dd2eb777-f9d1-4b55-8655-758a6d15aed0",
   "metadata": {},
   "source": [
    "Q2. Given are some following variables containing data:\n",
    "\n",
    "(i) var1 = ‘ ‘ \n",
    "\n",
    "(ii) var2 = ‘[ DS , ML , Python]’ \n",
    "\n",
    "(iii) var3 = [ ‘DS’ , ’ML’ , ‘Python’ ]\n",
    "\n",
    "(iv) var4 = 1. What will be the data type of the above given variable."
   ]
  },
  {
   "cell_type": "code",
   "execution_count": 9,
   "id": "39e96a86-93a1-40e9-b94e-2ea437b9ab02",
   "metadata": {},
   "outputs": [
    {
     "name": "stdout",
     "output_type": "stream",
     "text": [
      "<class 'str'>\n",
      "<class 'str'>\n",
      "<class 'list'>\n",
      "<class 'float'>\n"
     ]
    }
   ],
   "source": [
    "var1 = ''\n",
    "var2 = '[ DS , ML , Python]'\n",
    "var3 = [ 'DS' , 'ML' , 'Python' ]\n",
    "var4 = 1.\n",
    "print(type(var1))\n",
    "print(type(var2))\n",
    "print(type(var3))\n",
    "print(type(var4))"
   ]
  },
  {
   "cell_type": "markdown",
   "id": "8f9c6265-bcb5-4d63-9c9f-20f3924d2aff",
   "metadata": {},
   "source": [
    "Q3. Explain the use of the following operators using an example: (i) / (ii) % (iii) // (iv) **"
   ]
  },
  {
   "cell_type": "markdown",
   "id": "cabc4a58-2d6d-4d47-a0e8-28dc23c5ba3d",
   "metadata": {},
   "source": [
    "(i) ( Division  / ) :- Devides oprand on the left side of the oprator with the oprand on its right. The division oprator returns qoutient. \n",
    "\n",
    "eg :- 10/3\n",
    "     3.3333333333333335\n",
    "     \n",
    "     \n",
    "     \n",
    "\n",
    "(ii) (Modulus  %  ) :- Devides oprand on the left side of the oprator with the oprand on its right. The modulus oprator returns the Remainder.\n",
    "\n",
    "eg :- f =5%2 \n",
    "\n",
    "\n",
    "(iii)  ( Floor Division //) :- In this oprand return qouteint ,also remove the digit after the  decimal point.\n",
    "\n",
    "eg :- 13//2\n",
    "\n",
    "       6 ( only provide value before the decimal point\n",
    "       \n",
    "       \n",
    "\n",
    "(iv) ( Exponent ** ):- It performs exponential calculation , that is raised oprand on the right side to the operand on the left of the oprator.\n",
    "\n",
    "eg :- 5**3\n",
    "\n",
    "     125"
   ]
  },
  {
   "cell_type": "code",
   "execution_count": 6,
   "id": "2488acb8-d769-4e61-9ff8-6a31566a87e6",
   "metadata": {},
   "outputs": [
    {
     "name": "stdout",
     "output_type": "stream",
     "text": [
      "3.3333333333333335\n",
      "1\n",
      "6\n",
      "125\n"
     ]
    }
   ],
   "source": [
    "e = 10/3\n",
    "f = 5%2\n",
    "g = 13//2\n",
    "h = 5**3\n",
    "print(e)\n",
    "print(f)\n",
    "print(g)\n",
    "print(h)"
   ]
  },
  {
   "cell_type": "code",
   "execution_count": null,
   "id": "9e5055a5-bf51-4787-8ef0-2316d6e146d0",
   "metadata": {},
   "outputs": [],
   "source": []
  },
  {
   "cell_type": "code",
   "execution_count": null,
   "id": "90be7cdf-74d6-46f9-84a3-829d906d6d3c",
   "metadata": {},
   "outputs": [],
   "source": []
  },
  {
   "cell_type": "markdown",
   "id": "8e3cc2a3-76b7-4f57-ac2a-2892eb8b4e02",
   "metadata": {},
   "source": [
    "Q4. Create a list of length 10 of your choice containing multiple types of data. Using for loop print the element and its data type."
   ]
  },
  {
   "cell_type": "code",
   "execution_count": 5,
   "id": "9ca9c8e3-290e-471e-8e48-c78a90c1e63d",
   "metadata": {},
   "outputs": [
    {
     "name": "stdout",
     "output_type": "stream",
     "text": [
      "1 <class 'int'>\n",
      "2 <class 'int'>\n",
      "3 <class 'int'>\n",
      " roapway devalopment  <class 'str'>\n",
      "5.8 <class 'float'>\n",
      "(9+4j) <class 'complex'>\n",
      "2.5 <class 'float'>\n",
      "shivamData science  <class 'str'>\n",
      "(4+9j) <class 'complex'>\n",
      "True <class 'bool'>\n"
     ]
    }
   ],
   "source": [
    "k = [1,2,3,\" roapway devalopment \",5.8, 9+4j,2.5,\"shivam\" \"Data science \",4+9j, True]\n",
    "for i in k:\n",
    "    print(i,type(i))\n",
    " "
   ]
  },
  {
   "cell_type": "code",
   "execution_count": null,
   "id": "b6f9e83d-f52f-4814-b1c2-3accc4f3305a",
   "metadata": {},
   "outputs": [],
   "source": []
  },
  {
   "cell_type": "code",
   "execution_count": null,
   "id": "504847ec-d554-44f2-a473-553064199acc",
   "metadata": {},
   "outputs": [],
   "source": []
  },
  {
   "cell_type": "markdown",
   "id": "f3cf01a2-f47f-48cc-9eac-42993f1b2040",
   "metadata": {},
   "source": [
    "Q5. Using a while loop, verify if the number A is purely divisible by number B and if so then how many\n",
    "times it can be divisible.\n",
    "\n"
   ]
  },
  {
   "cell_type": "code",
   "execution_count": null,
   "id": "751b7f8d-3e09-4c3e-b221-321b157272d4",
   "metadata": {},
   "outputs": [],
   "source": [
    "number = int(input(\"Enter the number: \"))\n",
    "divisor = int(input(\"Enter the divisor: \"))\n",
    "count = 0\n",
    "\n",
    "while number % divisor == 0:\n",
    "    number /= divisor\n",
    "    count += 1\n",
    "\n",
    "if count > 0:\n",
    "    print(\"The number\",number, \"is divisible by\", divisor, count, \"times.\")\n",
    "else:\n",
    "    print(\"The number\",number, \"is not divisible by\", divisor)\n"
   ]
  },
  {
   "cell_type": "code",
   "execution_count": null,
   "id": "09643584-21c3-41ad-8bd3-bd4d60014754",
   "metadata": {},
   "outputs": [],
   "source": []
  },
  {
   "cell_type": "markdown",
   "id": "cd74c6a5-d3da-4e73-aaca-f2536bd037d3",
   "metadata": {},
   "source": [
    "Q6. Create a list containing 25 int type data. Using for loop and if-else condition print if the element is \n",
    "divisible by 3 or not."
   ]
  },
  {
   "cell_type": "code",
   "execution_count": 7,
   "id": "e5b92b0a-1c28-4108-b07e-cb51b8008bbd",
   "metadata": {},
   "outputs": [
    {
     "name": "stdout",
     "output_type": "stream",
     "text": [
      "[20, 21, 22, 23, 24, 25, 26, 27, 28, 29, 30, 31, 32, 33, 34, 35, 36, 37, 38, 39, 40, 41, 42, 43, 44, 45, 46, 47, 48, 49]\n"
     ]
    }
   ],
   "source": [
    "s=[num for num in range(20,50)]\n",
    "print(s)"
   ]
  },
  {
   "cell_type": "code",
   "execution_count": 11,
   "id": "0a8247ee-b243-4a06-8ec3-59150d0aa892",
   "metadata": {},
   "outputs": [
    {
     "name": "stdout",
     "output_type": "stream",
     "text": [
      "20 ('not divisible by', 3)\n",
      "21 is divisible by 3\n",
      "22 ('not divisible by', 3)\n",
      "23 ('not divisible by', 3)\n",
      "24 is divisible by 3\n",
      "25 ('not divisible by', 3)\n",
      "26 ('not divisible by', 3)\n",
      "27 is divisible by 3\n",
      "28 ('not divisible by', 3)\n",
      "29 ('not divisible by', 3)\n",
      "30 is divisible by 3\n",
      "31 ('not divisible by', 3)\n",
      "32 ('not divisible by', 3)\n",
      "33 is divisible by 3\n",
      "34 ('not divisible by', 3)\n",
      "35 ('not divisible by', 3)\n",
      "36 is divisible by 3\n",
      "37 ('not divisible by', 3)\n",
      "38 ('not divisible by', 3)\n",
      "39 is divisible by 3\n",
      "40 ('not divisible by', 3)\n",
      "41 ('not divisible by', 3)\n",
      "42 is divisible by 3\n",
      "43 ('not divisible by', 3)\n",
      "44 ('not divisible by', 3)\n",
      "45 is divisible by 3\n",
      "46 ('not divisible by', 3)\n",
      "47 ('not divisible by', 3)\n",
      "48 is divisible by 3\n",
      "49 ('not divisible by', 3)\n"
     ]
    }
   ],
   "source": [
    "u=[20, 21, 22, 23, 24, 25, 26, 27, 28, 29, 30, 31, 32, 33, 34, 35, 36, 37, 38, 39, 40, 41, 42, 43, 44, 45, 46, 47, 48, 49]\n",
    "for r in u:\n",
    "    if r % 3 ==0:\n",
    "        print(r,\"is divisible by\",3)\n",
    "    else:\n",
    "        print(r,(\"not divisible by\",3))"
   ]
  },
  {
   "cell_type": "code",
   "execution_count": null,
   "id": "2c9afb24-a5d1-45a7-9f9e-b7d8cc8e1357",
   "metadata": {},
   "outputs": [],
   "source": []
  },
  {
   "cell_type": "code",
   "execution_count": null,
   "id": "8d8ae22c-54e9-4126-8dd6-b77bdfb943bb",
   "metadata": {},
   "outputs": [],
   "source": []
  },
  {
   "cell_type": "markdown",
   "id": "23e03b73-9b9e-43b4-8699-c30fca2214d7",
   "metadata": {},
   "source": [
    "Q7. What do you understand about mutable and immutable data types? Give examples for both showing\n",
    "this property."
   ]
  },
  {
   "cell_type": "markdown",
   "id": "27082b65-92e2-4929-bdf4-02c6eac34e5f",
   "metadata": {},
   "source": [
    "Mutable --- Where we can change or replace the data in index ( applicable only list)"
   ]
  },
  {
   "cell_type": "code",
   "execution_count": 8,
   "id": "190003bc-c495-42c2-ab15-24f76959452a",
   "metadata": {},
   "outputs": [
    {
     "name": "stdout",
     "output_type": "stream",
     "text": [
      "[5, 6, 8, 19, 'jitender arya', (8+9j), True, 58.6]\n"
     ]
    }
   ],
   "source": [
    "y = [5,6,8,19,\"sumit\",8+9j ,True, 58.6]\n",
    "type(y)\n",
    "list\n",
    "y[4]\n",
    "'sumit'\n",
    "y[4]= \"jitender arya\"\n",
    "print(y)"
   ]
  },
  {
   "cell_type": "markdown",
   "id": "82e70106-74cb-4739-8c68-e6bb0206ba53",
   "metadata": {},
   "source": [
    "Inmutable-- where  we can't change or replace the data in index ( like string or int )"
   ]
  },
  {
   "cell_type": "code",
   "execution_count": null,
   "id": "a6b3e420-38c5-4e70-820f-0a01f8b29a94",
   "metadata": {},
   "outputs": [],
   "source": [
    "t='raju'\n",
    "t[1]\n",
    "'a'\n",
    "t[1]=i  "
   ]
  },
  {
   "cell_type": "markdown",
   "id": "6e199066-2b43-4dc1-b83a-802dcce30472",
   "metadata": {},
   "source": [
    "NameError: name 'i' is not defined"
   ]
  },
  {
   "cell_type": "code",
   "execution_count": null,
   "id": "05ee528c-c1d1-47b5-83d8-36d1daaa88b0",
   "metadata": {},
   "outputs": [],
   "source": []
  },
  {
   "cell_type": "code",
   "execution_count": null,
   "id": "ad1d058d-0904-4abd-ba42-a969620fa865",
   "metadata": {},
   "outputs": [],
   "source": []
  }
 ],
 "metadata": {
  "kernelspec": {
   "display_name": "Python 3 (ipykernel)",
   "language": "python",
   "name": "python3"
  },
  "language_info": {
   "codemirror_mode": {
    "name": "ipython",
    "version": 3
   },
   "file_extension": ".py",
   "mimetype": "text/x-python",
   "name": "python",
   "nbconvert_exporter": "python",
   "pygments_lexer": "ipython3",
   "version": "3.10.8"
  }
 },
 "nbformat": 4,
 "nbformat_minor": 5
}
